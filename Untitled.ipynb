{
 "cells": [
  {
   "cell_type": "code",
   "execution_count": 53,
   "metadata": {},
   "outputs": [
    {
     "name": "stdout",
     "output_type": "stream",
     "text": [
      "The autoreload extension is already loaded. To reload it, use:\n",
      "  %reload_ext autoreload\n"
     ]
    }
   ],
   "source": [
    "%load_ext autoreload\n",
    "%autoreload 2\n",
    "import torch\n",
    "import numpy as np"
   ]
  },
  {
   "cell_type": "code",
   "execution_count": 54,
   "metadata": {},
   "outputs": [],
   "source": [
    "a = torch.randn(3, 10)"
   ]
  },
  {
   "cell_type": "code",
   "execution_count": 55,
   "metadata": {},
   "outputs": [],
   "source": [
    "from geoopt.manifolds import lorentz"
   ]
  },
  {
   "cell_type": "code",
   "execution_count": 56,
   "metadata": {},
   "outputs": [],
   "source": [
    "k = torch.Tensor([10.])"
   ]
  },
  {
   "cell_type": "code",
   "execution_count": 59,
   "metadata": {},
   "outputs": [],
   "source": [
    "man = lorentz.Lorentz(k=k)"
   ]
  },
  {
   "cell_type": "code",
   "execution_count": null,
   "metadata": {},
   "outputs": [],
   "source": [
    "a "
   ]
  },
  {
   "cell_type": "code",
   "execution_count": 57,
   "metadata": {},
   "outputs": [],
   "source": [
    "l = lorentz.math.logmap0back(a,k=k)"
   ]
  },
  {
   "cell_type": "code",
   "execution_count": 58,
   "metadata": {},
   "outputs": [
    {
     "data": {
      "text/plain": [
       "(tensor([[nan, nan, nan, nan, nan, nan, nan, nan, nan, nan],\n",
       "         [nan, nan, nan, nan, nan, nan, nan, nan, nan, nan],\n",
       "         [nan, nan, nan, nan, nan, nan, nan, nan, nan, nan]]),\n",
       " tensor([[ 1.0116,  0.5805, -1.0099, -1.0508,  0.0617,  2.6141, -1.6125,  0.5703,\n",
       "           0.4137,  0.0466],\n",
       "         [ 0.2233, -0.3815,  0.9045,  1.8746, -2.2260, -1.8362,  0.4715, -0.6779,\n",
       "          -0.5157,  1.3224],\n",
       "         [ 0.7167,  1.7391,  1.2193,  1.5486,  0.1780, -0.6252,  0.4451,  0.6437,\n",
       "          -0.2545,  2.0486]]))"
      ]
     },
     "execution_count": 58,
     "metadata": {},
     "output_type": "execute_result"
    }
   ],
   "source": [
    "l,a"
   ]
  },
  {
   "cell_type": "code",
   "execution_count": 30,
   "metadata": {},
   "outputs": [],
   "source": [
    "r = lorentz.math.logmap1(a,k=k)"
   ]
  },
  {
   "cell_type": "code",
   "execution_count": 31,
   "metadata": {},
   "outputs": [],
   "source": [
    "np.testing.assert_allclose(l, r)"
   ]
  },
  {
   "cell_type": "code",
   "execution_count": 32,
   "metadata": {},
   "outputs": [
    {
     "data": {
      "text/plain": [
       "(tensor([[-0.0000e+00, -1.1771e+00,  2.3834e+00, -8.9982e-02, -2.7769e+00,\n",
       "           6.3397e-01, -4.2599e-01,  3.1064e+00,  4.5090e+00, -2.7446e+00],\n",
       "         [-0.0000e+00, -2.4793e-01,  7.9582e-01, -1.2994e+00,  1.4436e+00,\n",
       "          -7.0232e-01,  4.4103e-01, -1.0083e+00,  1.1052e+00, -4.3098e-01],\n",
       "         [ 5.0714e-08,  2.9286e+00,  7.2726e+00, -1.2153e+00, -3.0959e+00,\n",
       "           2.5852e-01, -2.4045e-01,  1.4552e+00, -5.6144e+00,  3.5035e+00]]),\n",
       " tensor([[-0.0000e+00, -1.1771e+00,  2.3834e+00, -8.9982e-02, -2.7769e+00,\n",
       "           6.3397e-01, -4.2599e-01,  3.1064e+00,  4.5090e+00, -2.7446e+00],\n",
       "         [-0.0000e+00, -2.4793e-01,  7.9582e-01, -1.2994e+00,  1.4436e+00,\n",
       "          -7.0232e-01,  4.4103e-01, -1.0083e+00,  1.1052e+00, -4.3098e-01],\n",
       "         [ 5.0714e-08,  2.9286e+00,  7.2726e+00, -1.2153e+00, -3.0959e+00,\n",
       "           2.5852e-01, -2.4045e-01,  1.4552e+00, -5.6144e+00,  3.5035e+00]]))"
      ]
     },
     "execution_count": 32,
     "metadata": {},
     "output_type": "execute_result"
    }
   ],
   "source": [
    "l, r"
   ]
  },
  {
   "cell_type": "code",
   "execution_count": 48,
   "metadata": {},
   "outputs": [],
   "source": [
    "indices = torch.tensor([0, 1])\n",
    "b = torch.index_select(a, 0, indices)"
   ]
  },
  {
   "cell_type": "code",
   "execution_count": 49,
   "metadata": {},
   "outputs": [],
   "source": [
    "b *= 0"
   ]
  },
  {
   "cell_type": "code",
   "execution_count": 52,
   "metadata": {},
   "outputs": [
    {
     "data": {
      "text/plain": [
       "tensor([[ 0.0000e+00,  5.0092e-01, -1.0143e+00,  3.8291e-02,  1.1817e+00,\n",
       "         -2.6978e-01,  1.8128e-01, -1.3219e+00, -1.9188e+00,  1.1679e+00],\n",
       "        [ 0.0000e+00,  3.1210e-01, -1.0018e+00,  1.6357e+00, -1.8173e+00,\n",
       "          8.8410e-01, -5.5517e-01,  1.2692e+00, -1.3912e+00,  5.4253e-01],\n",
       "        [-1.4901e-08, -8.6049e-01, -2.1369e+00,  3.5709e-01,  9.0967e-01,\n",
       "         -7.5960e-02,  7.0650e-02, -4.2758e-01,  1.6497e+00, -1.0294e+00]])"
      ]
     },
     "execution_count": 52,
     "metadata": {},
     "output_type": "execute_result"
    }
   ],
   "source": [
    "a"
   ]
  },
  {
   "cell_type": "code",
   "execution_count": null,
   "metadata": {},
   "outputs": [],
   "source": []
  }
 ],
 "metadata": {
  "kernelspec": {
   "display_name": "Python 3",
   "language": "python",
   "name": "python3"
  },
  "language_info": {
   "codemirror_mode": {
    "name": "ipython",
    "version": 3
   },
   "file_extension": ".py",
   "mimetype": "text/x-python",
   "name": "python",
   "nbconvert_exporter": "python",
   "pygments_lexer": "ipython3",
   "version": "3.7.3"
  }
 },
 "nbformat": 4,
 "nbformat_minor": 2
}
