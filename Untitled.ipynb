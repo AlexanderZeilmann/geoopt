{
 "cells": [
  {
   "cell_type": "code",
   "execution_count": 140,
   "metadata": {},
   "outputs": [],
   "source": [
    "import geoopt\n",
    "from geoopt.manifolds import lorentz\n",
    "import torch\n",
    "import numpy as np"
   ]
  },
  {
   "cell_type": "code",
   "execution_count": 141,
   "metadata": {},
   "outputs": [],
   "source": [
    "k = torch.Tensor([1.])"
   ]
  },
  {
   "cell_type": "code",
   "execution_count": 142,
   "metadata": {},
   "outputs": [],
   "source": [
    "man = lorentz.Lorentz(k=k)"
   ]
  },
  {
   "cell_type": "code",
   "execution_count": 143,
   "metadata": {},
   "outputs": [],
   "source": [
    "a = torch.empty(1, 10, dtype=k.dtype).normal_(-1, 1)\n",
    "a /= a.norm(dim=-1, keepdim=True)\n",
    "a *= (torch.rand_like(k) * k) ** 0.5\n",
    "\n",
    "b = torch.empty(1, 10, dtype=k.dtype).normal_(-1, 1)\n",
    "b /= b.norm(dim=-1, keepdim=True)\n",
    "b *= (torch.rand_like(k) * k) ** 0.5"
   ]
  },
  {
   "cell_type": "code",
   "execution_count": 144,
   "metadata": {},
   "outputs": [],
   "source": [
    "a = man.projx(a)\n",
    "b = man.proju(a, b)\n",
    "b = b / man.norm(b, keepdim=True)\n",
    "\n",
    "\n",
    "     \n",
    "extra_dims = len(a.shape)\n",
    "segments = 12\n",
    "t = torch.linspace(0, 1, segments + 1, dtype=k.dtype).view(\n",
    "    (segments + 1,) + (1,) * extra_dims\n",
    ")\n",
    "gamma_ab_t = man.geodesic_unit(t, a, b)\n",
    "gamma_ab_t0 = gamma_ab_t[:1]\n",
    "gamma_ab_t1 = gamma_ab_t\n",
    "dist_ab_t0mt1 = man.dist(gamma_ab_t0, gamma_ab_t1, keepdim=True)"
   ]
  },
  {
   "cell_type": "code",
   "execution_count": 145,
   "metadata": {},
   "outputs": [],
   "source": [
    "true_distance_travelled = t.expand_as(dist_ab_t0mt1)\n",
    "     \n",
    "tolerance = {\n",
    "    torch.float32: dict(atol=1e-6, rtol=1e-5),\n",
    "    torch.float64: dict(atol=1e-10),\n",
    "}"
   ]
  },
  {
   "cell_type": "code",
   "execution_count": 146,
   "metadata": {},
   "outputs": [
    {
     "data": {
      "text/plain": [
       "tensor([[[ 0.0000e+00]],\n",
       "\n",
       "        [[-1.5423e-06]],\n",
       "\n",
       "        [[ 1.2666e-06]],\n",
       "\n",
       "        [[ 0.0000e+00]],\n",
       "\n",
       "        [[-1.0133e-06]],\n",
       "\n",
       "        [[-2.0862e-07]],\n",
       "\n",
       "        [[-7.7486e-07]],\n",
       "\n",
       "        [[-3.5763e-07]],\n",
       "\n",
       "        [[-2.3842e-07]],\n",
       "\n",
       "        [[-5.3644e-07]],\n",
       "\n",
       "        [[-2.9802e-07]],\n",
       "\n",
       "        [[ 1.1921e-07]],\n",
       "\n",
       "        [[-2.3842e-07]]])"
      ]
     },
     "execution_count": 146,
     "metadata": {},
     "output_type": "execute_result"
    }
   ],
   "source": [
    "dist_ab_t0mt1 - true_distance_travelled"
   ]
  },
  {
   "cell_type": "code",
   "execution_count": null,
   "metadata": {},
   "outputs": [],
   "source": []
  }
 ],
 "metadata": {
  "kernelspec": {
   "display_name": "Python 3",
   "language": "python",
   "name": "python3"
  },
  "language_info": {
   "codemirror_mode": {
    "name": "ipython",
    "version": 3
   },
   "file_extension": ".py",
   "mimetype": "text/x-python",
   "name": "python",
   "nbconvert_exporter": "python",
   "pygments_lexer": "ipython3",
   "version": "3.7.3"
  }
 },
 "nbformat": 4,
 "nbformat_minor": 2
}
